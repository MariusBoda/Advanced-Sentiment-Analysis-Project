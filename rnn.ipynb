{
 "cells": [
  {
   "cell_type": "code",
   "execution_count": 3,
   "metadata": {},
   "outputs": [
    {
     "name": "stdout",
     "output_type": "stream",
     "text": [
      "Path to dataset files: /Users/marius/.cache/kagglehub/datasets/kazanova/sentiment140/versions/2\n"
     ]
    }
   ],
   "source": [
    "import torch\n",
    "import kagglehub\n",
    "import torch.nn as nn\n",
    "import torch.optim as optim\n",
    "from sklearn.model_selection import train_test_split\n",
    "from sklearn.feature_extraction.text import CountVectorizer\n",
    "from torch.utils.data import Dataset, DataLoader\n",
    "from sklearn.metrics import accuracy_score\n",
    "import os\n",
    "import numpy as np\n",
    "import pandas as pd\n",
    "\n",
    "# Download GloVe embeddings (100-dimensional embeddings)\n",
    "def load_glove_embeddings(glove_file_path, embedding_dim=100):\n",
    "    embeddings = {}\n",
    "    with open(glove_file_path, 'r', encoding='utf-8') as f:\n",
    "        for line in f:\n",
    "            values = line.strip().split()\n",
    "            word = values[0]\n",
    "            vector = np.asarray(values[1:], dtype='float32')\n",
    "            embeddings[word] = vector\n",
    "    return embeddings\n",
    "\n",
    "glove_path = 'glove/glove.6B.100d.txt' # download this and place in the repo.\n",
    "glove_embeddings = load_glove_embeddings(glove_path)\n",
    "\n",
    "# Tokenization and indexing\n",
    "def tokenize_and_create_embeddings(texts, glove_embeddings, max_features=1000):\n",
    "    vectorizer = CountVectorizer(max_features=max_features, stop_words='english')\n",
    "    X = vectorizer.fit_transform(texts).toarray()\n",
    "    \n",
    "    word_to_index = {word: idx for idx, word in enumerate(vectorizer.get_feature_names_out())}\n",
    "    embedding_matrix = np.zeros((len(word_to_index), 100))\n",
    "    \n",
    "    for word, idx in word_to_index.items():\n",
    "        if word in glove_embeddings:\n",
    "            embedding_matrix[idx] = glove_embeddings[word]\n",
    "    \n",
    "    return X, word_to_index, embedding_matrix\n",
    "\n",
    "path = kagglehub.dataset_download(\"kazanova/sentiment140\")\n",
    "print(\"Path to dataset files:\", path)\n",
    "file_path = os.path.join(path, \"training.1600000.processed.noemoticon.csv\")\n",
    "columns = ['target', 'id', 'date', 'flag', 'user', 'text']\n",
    "full_data = pd.read_csv(file_path, encoding='latin-1', names=columns)\n",
    "data = full_data[['target', 'text']].copy()\n",
    "data.rename(columns={\"target\": \"label\"}, inplace=True)\n",
    "\n",
    "\n",
    "train_data, test_data = train_test_split(data, test_size=0.2, random_state=42)\n",
    "X_train, word_to_index, embedding_matrix = tokenize_and_create_embeddings(train_data['text'], glove_embeddings)\n",
    "X_test, _, _ = tokenize_and_create_embeddings(test_data['text'], glove_embeddings)"
   ]
  },
  {
   "cell_type": "code",
   "execution_count": null,
   "metadata": {},
   "outputs": [],
   "source": []
  }
 ],
 "metadata": {
  "kernelspec": {
   "display_name": "Python 3",
   "language": "python",
   "name": "python3"
  },
  "language_info": {
   "codemirror_mode": {
    "name": "ipython",
    "version": 3
   },
   "file_extension": ".py",
   "mimetype": "text/x-python",
   "name": "python",
   "nbconvert_exporter": "python",
   "pygments_lexer": "ipython3",
   "version": "3.12.3"
  }
 },
 "nbformat": 4,
 "nbformat_minor": 2
}
